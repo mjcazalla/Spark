{
  "cells": [
    {
      "cell_type": "markdown",
      "metadata": {
        "colab_type": "text",
        "id": "view-in-github"
      },
      "source": [
        "<a href=\"https://colab.research.google.com/gist/aitor-medrano/284da4c870452af46469aedba99f7e33/puestaenmarchaspark.ipynb\" target=\"_parent\"><img src=\"https://colab.research.google.com/assets/colab-badge.svg\" alt=\"Open In Colab\"/></a>"
      ]
    },
    {
      "cell_type": "markdown",
      "metadata": {
        "id": "a1UoZCmc0K4i"
      },
      "source": [
        "# Instalación Spark en Google Colab\n",
        "\n",
        "Primero hemos de instalar Java como prerrequisito"
      ]
    },
    {
      "cell_type": "code",
      "execution_count": 7,
      "metadata": {
        "id": "GdcLXkAWz-cA"
      },
      "outputs": [],
      "source": [
        "!apt-get install openjdk-8-jdk-headless -qq > /dev/null"
      ]
    },
    {
      "cell_type": "markdown",
      "metadata": {
        "id": "7ph8I0ue0W0v"
      },
      "source": [
        "El siguiente paso es descargar y configurar Spark:"
      ]
    },
    {
      "cell_type": "code",
      "execution_count": 11,
      "metadata": {
        "id": "1BVXsPiK0R_g"
      },
      "outputs": [],
      "source": [
        "!wget -q https://downloads.apache.org/spark/spark-3.5.1/spark-3.5.1-bin-hadoop3.tgz"
      ]
    },
    {
      "cell_type": "code",
      "execution_count": null,
      "metadata": {
        "id": "IYcenQir37yi"
      },
      "outputs": [],
      "source": [
        "!tar xvf spark-3.5.1-bin-hadoop3.tgz\n"
      ]
    },
    {
      "cell_type": "markdown",
      "metadata": {
        "id": "GaABCrsq8Y_v"
      },
      "source": [
        "Instalamos pyspark para trabajar mediante Python"
      ]
    },
    {
      "cell_type": "code",
      "execution_count": 13,
      "metadata": {
        "id": "uGEKP7nq39p3"
      },
      "outputs": [],
      "source": [
        "# instalar pyspark\n",
        "!pip install -q pyspark"
      ]
    },
    {
      "cell_type": "markdown",
      "metadata": {
        "id": "WFLWwnSw0vkP"
      },
      "source": [
        "Configuramos las variables de entorno"
      ]
    },
    {
      "cell_type": "code",
      "execution_count": 16,
      "metadata": {
        "id": "UHsqVUvA0bw4"
      },
      "outputs": [],
      "source": [
        "# Variables de Entorno\n",
        "import os\n",
        "os.environ[\"JAVA_HOME\"] = \"/usr/lib/jvm/java-8-openjdk-amd64\"\n",
        "os.environ[\"SPARK_HOME\"] = f\"/content/spark-3.5.1-bin-hadoop3\""
      ]
    },
    {
      "cell_type": "markdown",
      "metadata": {
        "id": "SYjExxWj07sw"
      },
      "source": [
        "Cargamos las librerías"
      ]
    },
    {
      "cell_type": "code",
      "execution_count": 17,
      "metadata": {
        "colab": {
          "base_uri": "https://localhost:8080/",
          "height": 219
        },
        "id": "DCPzREpO063f",
        "outputId": "2a788bed-63b4-43dc-e52d-ddc687d85b12"
      },
      "outputs": [
        {
          "data": {
            "text/html": [
              "\n",
              "            <div>\n",
              "                <p><b>SparkSession - in-memory</b></p>\n",
              "                \n",
              "        <div>\n",
              "            <p><b>SparkContext</b></p>\n",
              "\n",
              "            <p><a href=\"http://8f2b2f4e866c:4040\">Spark UI</a></p>\n",
              "\n",
              "            <dl>\n",
              "              <dt>Version</dt>\n",
              "                <dd><code>v3.5.0</code></dd>\n",
              "              <dt>Master</dt>\n",
              "                <dd><code>local[*]</code></dd>\n",
              "              <dt>AppName</dt>\n",
              "                <dd><code>s8a</code></dd>\n",
              "            </dl>\n",
              "        </div>\n",
              "        \n",
              "            </div>\n",
              "        "
            ],
            "text/plain": [
              "<pyspark.sql.session.SparkSession at 0x7b0af81f5ea0>"
            ]
          },
          "execution_count": 17,
          "metadata": {},
          "output_type": "execute_result"
        }
      ],
      "source": [
        "# Cargar Pyspark\n",
        "from pyspark.sql import SparkSession\n",
        "spark = SparkSession.builder.appName(\"s8a\").master(\"local[*]\").getOrCreate()\n",
        "spark"
      ]
    },
    {
      "cell_type": "markdown",
      "metadata": {
        "id": "_UBo_UH88fGm"
      },
      "source": [
        "Y ya podemos empezar a desarrollar mediante Python en Spark"
      ]
    },
    {
      "cell_type": "code",
      "execution_count": 18,
      "metadata": {
        "colab": {
          "base_uri": "https://localhost:8080/"
        },
        "id": "XufkwBXE1JGY",
        "outputId": "8e1f1f4a-da15-4601-8e56-a11c192f7483"
      },
      "outputs": [
        {
          "data": {
            "text/plain": [
              "5050"
            ]
          },
          "execution_count": 18,
          "metadata": {},
          "output_type": "execute_result"
        }
      ],
      "source": [
        "# Ejemplo RDD\n",
        "# Suma de los 100 primeros números\n",
        "sc = spark.sparkContext\n",
        "rdd = sc.parallelize(range(100 + 1))\n",
        "rdd.sum()"
      ]
    },
    {
      "cell_type": "code",
      "execution_count": 19,
      "metadata": {
        "colab": {
          "base_uri": "https://localhost:8080/"
        },
        "id": "-67bbNff6rk3",
        "outputId": "064f04fb-9106-4a96-c2d7-90c306273bdf"
      },
      "outputs": [
        {
          "data": {
            "text/plain": [
              "584"
            ]
          },
          "execution_count": 19,
          "metadata": {},
          "output_type": "execute_result"
        }
      ],
      "source": [
        "# Ejemplo DataFrame\n",
        "!wget -q https://raw.githubusercontent.com/mjcazalla/Spark/main/el_quijote.txt\n",
        "\n",
        "quijoteTxt = spark.read.text(\"el_quijote.txt\")\n",
        "quijoteTxt.count()  # número de filas del DataFrame - 2186\n",
        "quijoteTxt.first()  # primera fila - Row(value='DON QUIJOTE DE LA MANCHA')\n",
        "# Transformamos un DataFrame en otro nuevo\n",
        "lineasConQuijote = quijoteTxt.filter(quijoteTxt.value.contains(\"Quijote\"))  # DataFrame con las líneas que contiene la palabra Quijote\n",
        "lineasConQuijote.count()  # cantidad de líneas con la palabra Quijote - 584\n",
        "# Las transformaciones se pueden encadenar\n",
        "quijoteTxt.filter(quijoteTxt.value.contains(\"Quijote\")).count()     # idem - 584\n"
      ]
    },
    {
      "cell_type": "code",
      "execution_count": 20,
      "metadata": {
        "colab": {
          "base_uri": "https://localhost:8080/"
        },
        "id": "cu5HZYZ37FhI",
        "outputId": "57347f43-6f26-4efb-931c-783542bf37b6"
      },
      "outputs": [
        {
          "name": "stdout",
          "output_type": "stream",
          "text": [
            "root\n",
            " |-- longitude: double (nullable = true)\n",
            " |-- latitude: double (nullable = true)\n",
            " |-- housing_median_age: double (nullable = true)\n",
            " |-- total_rooms: double (nullable = true)\n",
            " |-- total_bedrooms: double (nullable = true)\n",
            " |-- population: double (nullable = true)\n",
            " |-- households: double (nullable = true)\n",
            " |-- median_income: double (nullable = true)\n",
            " |-- median_house_value: double (nullable = true)\n",
            "\n"
          ]
        }
      ],
      "source": [
        "# Ejemplo datos Collab\n",
        "archivo = './sample_data/california_housing_train.csv'\n",
        "dfSpark = spark.read.csv(archivo, inferSchema=True, header=True)\n",
        "\n",
        "# imprimir tipo de archivo\n",
        "dfSpark.printSchema()"
      ]
    },
    {
      "cell_type": "code",
      "execution_count": 21,
      "metadata": {
        "colab": {
          "base_uri": "https://localhost:8080/"
        },
        "id": "4hKcApQM7jq3",
        "outputId": "b74b168a-220a-471c-fad3-5387fd9abb0c"
      },
      "outputs": [
        {
          "name": "stdout",
          "output_type": "stream",
          "text": [
            "+-------+-------------------+------------------+------------------+-----------------+-----------------+------------------+-----------------+------------------+------------------+\n",
            "|summary|          longitude|          latitude|housing_median_age|      total_rooms|   total_bedrooms|        population|       households|     median_income|median_house_value|\n",
            "+-------+-------------------+------------------+------------------+-----------------+-----------------+------------------+-----------------+------------------+------------------+\n",
            "|  count|              17000|             17000|             17000|            17000|            17000|             17000|            17000|             17000|             17000|\n",
            "|   mean|-119.56210823529375|  35.6252247058827| 28.58935294117647|2643.664411764706|539.4108235294118|1429.5739411764705|501.2219411764706| 3.883578100000021|207300.91235294117|\n",
            "| stddev| 2.0051664084260357|2.1373397946570867|12.586936981660406|2179.947071452777|421.4994515798648| 1147.852959159527|384.5208408559016|1.9081565183791036|115983.76438720895|\n",
            "|    min|            -124.35|             32.54|               1.0|              2.0|              1.0|               3.0|              1.0|            0.4999|           14999.0|\n",
            "|    max|            -114.31|             41.95|              52.0|          37937.0|           6445.0|           35682.0|           6082.0|           15.0001|          500001.0|\n",
            "+-------+-------------------+------------------+------------------+-----------------+-----------------+------------------+-----------------+------------------+------------------+\n",
            "\n"
          ]
        }
      ],
      "source": [
        "dfSpark.describe().show()"
      ]
    },
    {
      "cell_type": "code",
      "execution_count": 21,
      "metadata": {
        "id": "t8r6fQZU7m_f"
      },
      "outputs": [],
      "source": []
    }
  ],
  "metadata": {
    "colab": {
      "authorship_tag": "ABX9TyMHH77meeqCb2gvnk9LO+Ee",
      "include_colab_link": true,
      "provenance": []
    },
    "kernelspec": {
      "display_name": "Python 3",
      "name": "python3"
    },
    "language_info": {
      "name": "python"
    }
  },
  "nbformat": 4,
  "nbformat_minor": 0
}
